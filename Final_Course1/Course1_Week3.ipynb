{
 "cells": [
  {
   "cell_type": "markdown",
   "metadata": {},
   "source": [
    "# Week 3 Homework\n",
    "\n",
    "Topics Covered:\n",
    "- Data Filtering and Cleaning\n",
    "    - Filtering by date and attributes\n",
    "- Processing Text and Strings in Python\n",
    "    - Removeing punctuation, making all lowercase\n",
    "- Processing Times and Dates in Python \n",
    "    - Converstion from Strings to Time Objects, to Unix time\n",
    "    - Sorting time feature data\n",
    "\n"
   ]
  },
  {
   "cell_type": "markdown",
   "metadata": {},
   "source": [
    "## Section 1: Data Filtering and Cleaning\n",
    "### ...with an intro to time\n",
    "\n",
    "In this section, you will preprocess a moderately-sized dataset filled with Airbnb Listing Data for Seattle, WA and its surrounding regions.\n",
    "\n",
    "To expidite the assignment, we've written the code needed to import the `airbnb_listings.csv` file.Please begin the assignment by running this code cell below."
   ]
  },
  {
   "cell_type": "code",
   "execution_count": 5,
   "metadata": {},
   "outputs": [
    {
     "name": "stdout",
     "output_type": "stream",
     "text": [
      "['index', 'room_id', 'host_id', 'room_type', 'address', 'reviews', 'overall_satisfaction', 'accommodates', 'bedrooms', 'bathrooms', 'price', 'last_modified', 'latitude', 'longitude', 'location', 'name', 'currency', 'rate_type']\n"
     ]
    }
   ],
   "source": [
    "# Be sure to run this!\n",
    "import csv\n",
    "\n",
    "f = open('datasets/airbnb_listings.csv')\n",
    "# Note: the delimiter is ',' since this is a csv rather than a tsv file\n",
    "reader = csv.reader(f, delimiter = ',')\n",
    "header = next(reader)\n",
    "\n",
    "print(header)"
   ]
  },
  {
   "cell_type": "markdown",
   "metadata": {},
   "source": [
    "### Note\n",
    "Be sure to take note of the headers within the dataset.\n",
    "\n",
    "### Task 1:\n",
    "Import the rest of the csv file into a list of dictionaries, simply named `dataset`\n",
    "\n",
    "**Hint**: These are the corresponding headers for each data type:\n",
    "\n",
    "##### Int\n",
    "- index\n",
    "- room_id\n",
    "- host_id\n",
    "- reviews\n",
    "- accommodates\n",
    "- price\n",
    "\n",
    "##### Float\n",
    "- overall_satisfaction\n",
    "- bedrooms\n",
    "- bathrooms\n",
    "- latitude\n",
    "- longitude\n",
    "(some listings list smaller rooms as halves)\n",
    "\n",
    "##### String\n",
    "- Everything else\n",
    "\n"
   ]
  },
  {
   "cell_type": "code",
   "execution_count": 1,
   "metadata": {
    "scrolled": true
   },
   "outputs": [
    {
     "ename": "SyntaxError",
     "evalue": "invalid syntax (<ipython-input-1-7d2a0877c20b>, line 5)",
     "output_type": "error",
     "traceback": [
      "\u001b[0;36m  File \u001b[0;32m\"<ipython-input-1-7d2a0877c20b>\"\u001b[0;36m, line \u001b[0;32m5\u001b[0m\n\u001b[0;31m    d = #TODO: YOUR CODE HERE\u001b[0m\n\u001b[0m                             ^\u001b[0m\n\u001b[0;31mSyntaxError\u001b[0m\u001b[0;31m:\u001b[0m invalid syntax\n"
     ]
    }
   ],
   "source": [
    "dataset = []\n",
    "\n",
    "for line in reader:\n",
    "    # Convert into a dictionary object\n",
    "    d = #TODO: YOUR CODE HERE\n",
    "    # Cast ID and Star Ratings as Integers\n",
    "    for field in ['index','room_id','host_id', 'reviews', 'accommodates', 'price']:\n",
    "        d[field] = #TODO: YOUR CODE HERE\n",
    "    for field in ['overall_satisfaction', 'bedrooms', 'bathrooms', 'latitude', 'longitude']:\n",
    "        #TODO: Do the same for these features, albeit with Floats.\n",
    "        #HINT: Some of these listings have these fields missing. Is an empty string (e.g. \"\") a float?\n",
    "        #TODO: YOUR CODE HERE\n",
    "    #TODO: Append the newly created dictionary object to the dataset.\n",
    "    #TODO: YOUR CODE HERE\n"
   ]
  },
  {
   "cell_type": "code",
   "execution_count": 2,
   "metadata": {},
   "outputs": [
    {
     "ename": "NameError",
     "evalue": "name 'dataset' is not defined",
     "output_type": "error",
     "traceback": [
      "\u001b[0;31m---------------------------------------------------------------------------\u001b[0m",
      "\u001b[0;31mNameError\u001b[0m                                 Traceback (most recent call last)",
      "\u001b[0;32m<ipython-input-2-8be2e4d19630>\u001b[0m in \u001b[0;36m<module>\u001b[0;34m\u001b[0m\n\u001b[1;32m      1\u001b[0m \u001b[0;31m#Use this to verify that you're on the right track.\u001b[0m\u001b[0;34m\u001b[0m\u001b[0;34m\u001b[0m\u001b[0;34m\u001b[0m\u001b[0m\n\u001b[0;32m----> 2\u001b[0;31m \u001b[0;32mif\u001b[0m\u001b[0;34m(\u001b[0m\u001b[0mlen\u001b[0m\u001b[0;34m(\u001b[0m\u001b[0mdataset\u001b[0m\u001b[0;34m)\u001b[0m \u001b[0;34m==\u001b[0m \u001b[0;36m7576\u001b[0m\u001b[0;34m)\u001b[0m\u001b[0;34m:\u001b[0m\u001b[0;34m\u001b[0m\u001b[0;34m\u001b[0m\u001b[0m\n\u001b[0m\u001b[1;32m      3\u001b[0m     \u001b[0mprint\u001b[0m\u001b[0;34m(\u001b[0m\u001b[0;34m\"Great, looks like we've got the dataset up and running. Let's try some filtering techniques we learned in the lecture.\"\u001b[0m\u001b[0;34m)\u001b[0m\u001b[0;34m\u001b[0m\u001b[0;34m\u001b[0m\u001b[0m\n",
      "\u001b[0;31mNameError\u001b[0m: name 'dataset' is not defined"
     ]
    }
   ],
   "source": [
    "#Use this to verify that you're on the right track.\n",
    "if(len(dataset) == 7576):\n",
    "    print(\"Great, looks like we've got the dataset up and running. Let's try some filtering techniques we learned in the lecture.\")"
   ]
  },
  {
   "cell_type": "markdown",
   "metadata": {},
   "source": [
    "*Note that attempting to print the dataset at this point will cause Jupyter to throw an error due to its size.*"
   ]
  },
  {
   "cell_type": "markdown",
   "metadata": {},
   "source": [
    "### Task 2: Filtering by Room Type\n",
    "\n"
   ]
  },
  {
   "cell_type": "markdown",
   "metadata": {},
   "source": [
    "Let's start slimming down the dataset. \n",
    "\n",
    "Let's say we're only interested in `room_type` features that are `\"Entire home/apt\"` listings.  \n",
    "Using what we know from the lecture, how would we filter down the dataset by the above criteria?"
   ]
  },
  {
   "cell_type": "code",
   "execution_count": 8,
   "metadata": {},
   "outputs": [
    {
     "name": "stdout",
     "output_type": "stream",
     "text": [
      "5603\n"
     ]
    }
   ],
   "source": [
    "dataset = #TODO: YOUR CODE HERE\n",
    "#HINT: You'll need to use the string \"Entire home/apt\" verbatim.\n",
    "print(len(dataset))"
   ]
  },
  {
   "cell_type": "markdown",
   "metadata": {},
   "source": [
    "### Task 3: Filtering By Number of Reviews"
   ]
  },
  {
   "cell_type": "markdown",
   "metadata": {},
   "source": [
    "While this is printable now, it's still incredibly large (clocking in at 5603 entries!). Let's find another criteria to narrow down the datset to make more meaningful predictions.\n",
    "\n",
    "Let's filter the entireHomeDataset once again by only showing listings that have >= 150 `reviews`"
   ]
  },
  {
   "cell_type": "code",
   "execution_count": 11,
   "metadata": {},
   "outputs": [
    {
     "name": "stdout",
     "output_type": "stream",
     "text": [
      "423\n"
     ]
    }
   ],
   "source": [
    "dataset = #TODO: YOUR CODE HERE\n",
    "print(len(dataset))"
   ]
  },
  {
   "cell_type": "code",
   "execution_count": 3,
   "metadata": {},
   "outputs": [
    {
     "ename": "NameError",
     "evalue": "name 'dataset' is not defined",
     "output_type": "error",
     "traceback": [
      "\u001b[0;31m---------------------------------------------------------------------------\u001b[0m",
      "\u001b[0;31mNameError\u001b[0m                                 Traceback (most recent call last)",
      "\u001b[0;32m<ipython-input-3-aff4cea0bcb1>\u001b[0m in \u001b[0;36m<module>\u001b[0;34m\u001b[0m\n\u001b[1;32m      1\u001b[0m \u001b[0;31m# Use this to verify that you are on the right track\u001b[0m\u001b[0;34m\u001b[0m\u001b[0;34m\u001b[0m\u001b[0;34m\u001b[0m\u001b[0m\n\u001b[0;32m----> 2\u001b[0;31m \u001b[0;32mif\u001b[0m\u001b[0;34m(\u001b[0m\u001b[0mlen\u001b[0m\u001b[0;34m(\u001b[0m\u001b[0mdataset\u001b[0m\u001b[0;34m)\u001b[0m \u001b[0;34m==\u001b[0m \u001b[0;36m423\u001b[0m\u001b[0;34m)\u001b[0m\u001b[0;34m:\u001b[0m\u001b[0;34m\u001b[0m\u001b[0;34m\u001b[0m\u001b[0m\n\u001b[0m\u001b[1;32m      3\u001b[0m     \u001b[0mprint\u001b[0m\u001b[0;34m(\u001b[0m\u001b[0;34m\"Great job!\"\u001b[0m\u001b[0;34m)\u001b[0m\u001b[0;34m\u001b[0m\u001b[0;34m\u001b[0m\u001b[0m\n",
      "\u001b[0;31mNameError\u001b[0m: name 'dataset' is not defined"
     ]
    }
   ],
   "source": [
    "# Use this to verify that you are on the right track\n",
    "if(len(dataset) == 423):\n",
    "    print(\"Great job!\")"
   ]
  },
  {
   "cell_type": "markdown",
   "metadata": {},
   "source": [
    "## Section 2: Strings in Python"
   ]
  },
  {
   "cell_type": "markdown",
   "metadata": {},
   "source": [
    "### Task 1: Removing Punctuation and Casing"
   ]
  },
  {
   "cell_type": "markdown",
   "metadata": {},
   "source": [
    "Let's begin by running the following code snippet below to import Python's `string` library, and by creating a `vocab` list.  \n",
    "We will use this list to collect every word inside the slimmed-down listing dataset. "
   ]
  },
  {
   "cell_type": "code",
   "execution_count": 4,
   "metadata": {},
   "outputs": [],
   "source": [
    "import string\n",
    "\n",
    "vocab = []\n",
    "vocabFrequency = []"
   ]
  },
  {
   "cell_type": "markdown",
   "metadata": {},
   "source": [
    "After this, we will...\n",
    "1. Loop through the dataset to remove punctuation  \n",
    "    _Note: You will need to use Python's list of punctuation._\n",
    "2. Make every string lowercase  \n",
    "3. Extend the `vocab` dict with the newly cleaned string, albeit split into individual words.\n",
    "\n",
    "_Hint: Refer to Python's documentation on [common string operations](https://docs.python.org/3.7/library/string.html) to complete this task_"
   ]
  },
  {
   "cell_type": "code",
   "execution_count": 6,
   "metadata": {},
   "outputs": [
    {
     "ename": "SyntaxError",
     "evalue": "unexpected EOF while parsing (<ipython-input-6-dbf3b9b0be95>, line 9)",
     "output_type": "error",
     "traceback": [
      "\u001b[0;36m  File \u001b[0;32m\"<ipython-input-6-dbf3b9b0be95>\"\u001b[0;36m, line \u001b[0;32m9\u001b[0m\n\u001b[0;31m    vocab.extend(#TODO: YOUR CODE HERE)\u001b[0m\n\u001b[0m                                       ^\u001b[0m\n\u001b[0;31mSyntaxError\u001b[0m\u001b[0;31m:\u001b[0m unexpected EOF while parsing\n"
     ]
    }
   ],
   "source": [
    "\n",
    "#Process the string, then add each word to the compendium\n",
    "for d in dataset:\n",
    "    # Remove punctuation\n",
    "    d['name'] = ''.join(#TODO: YOUR CODE HERE)\n",
    "    # Make lowercase\n",
    "    d['name'] = #TODO: YOUR CODE HERE\n",
    "    # Extend the vocab list by splitting d['name']\n",
    "    vocab.extend(#TODO: YOUR CODE HERE)\n"
   ]
  },
  {
   "cell_type": "markdown",
   "metadata": {},
   "source": [
    "Then, let's append the vocab's count into the vocabFrequency list (this part is done for you). \n",
    "\n",
    "After that, we will zip up the `vocab` and `vocabFrequency` lists into a dictionary.\n",
    "\n"
   ]
  },
  {
   "cell_type": "code",
   "execution_count": 8,
   "metadata": {},
   "outputs": [
    {
     "ename": "SyntaxError",
     "evalue": "invalid syntax (<ipython-input-8-24972e759330>, line 6)",
     "output_type": "error",
     "traceback": [
      "\u001b[0;36m  File \u001b[0;32m\"<ipython-input-8-24972e759330>\"\u001b[0;36m, line \u001b[0;32m6\u001b[0m\n\u001b[0;31m    freqDict = #TODO: YOUR CODE HERE\u001b[0m\n\u001b[0m                                    ^\u001b[0m\n\u001b[0;31mSyntaxError\u001b[0m\u001b[0;31m:\u001b[0m invalid syntax\n"
     ]
    }
   ],
   "source": [
    "for word in vocab:\n",
    "    vocabFrequency.append(vocab.count(word))\n",
    "\n",
    "# Zip up the vocab and vocabFrequency lists into a dictionary object.\n",
    "# Recall the method we used from the previous section to do so. \n",
    "freqDict = #TODO: YOUR CODE HERE\n",
    "# Don't modify this line:\n",
    "freqDict = sorted(freqDict.items(), reverse=True, key=lambda x: x[1])"
   ]
  },
  {
   "cell_type": "code",
   "execution_count": null,
   "metadata": {},
   "outputs": [],
   "source": [
    "#Run this cell\n",
    "print(freqDict[:10])\n",
    "print(len(dataset))"
   ]
  },
  {
   "cell_type": "markdown",
   "metadata": {},
   "source": [
    "Here we see the top 10 terms used in the description of each listing. Naturally, since the dataset is focused around the Seattle area, 'seattle' is the top term, clocking in at 70 instances within the subset of our dataset. \n",
    "\n",
    "In a future assignment, we may use the [NLTK Python Library](https://www.nltk.org) to further filter string lists by parts of speech, but that is a topic for a different course. "
   ]
  },
  {
   "cell_type": "markdown",
   "metadata": {},
   "source": [
    "### Knowledge Check:\n",
    "1. Name some key reasons why filtering is necessary when working with large datasets.\n",
    "2. What are some features of the `airbnb_reviews` dataset that might not be necessary? Explain your reasoning. \n",
    "3. If you were to remove those features, what would the code for that look like?\n",
    "\n",
    "_You do not need to answer these officially, but we encourage you to go back and review the code if you do not know the answer._"
   ]
  },
  {
   "cell_type": "markdown",
   "metadata": {},
   "source": [
    "## Section 3: Time and Date Data"
   ]
  },
  {
   "cell_type": "markdown",
   "metadata": {},
   "source": [
    "Let's begin this section by running the cell below."
   ]
  },
  {
   "cell_type": "code",
   "execution_count": 9,
   "metadata": {},
   "outputs": [
    {
     "ename": "NameError",
     "evalue": "name 'dataset' is not defined",
     "output_type": "error",
     "traceback": [
      "\u001b[0;31m---------------------------------------------------------------------------\u001b[0m",
      "\u001b[0;31mNameError\u001b[0m                                 Traceback (most recent call last)",
      "\u001b[0;32m<ipython-input-9-0db5bfbb651d>\u001b[0m in \u001b[0;36m<module>\u001b[0;34m\u001b[0m\n\u001b[1;32m      1\u001b[0m \u001b[0;32mimport\u001b[0m \u001b[0mtime\u001b[0m\u001b[0;34m\u001b[0m\u001b[0;34m\u001b[0m\u001b[0m\n\u001b[1;32m      2\u001b[0m \u001b[0;34m\u001b[0m\u001b[0m\n\u001b[0;32m----> 3\u001b[0;31m \u001b[0mfirstTime\u001b[0m \u001b[0;34m=\u001b[0m \u001b[0mdataset\u001b[0m\u001b[0;34m[\u001b[0m\u001b[0;36m0\u001b[0m\u001b[0;34m]\u001b[0m\u001b[0;34m[\u001b[0m\u001b[0;34m'last_modified'\u001b[0m\u001b[0;34m]\u001b[0m\u001b[0;34m\u001b[0m\u001b[0;34m\u001b[0m\u001b[0m\n\u001b[0m\u001b[1;32m      4\u001b[0m \u001b[0mprint\u001b[0m\u001b[0;34m(\u001b[0m\u001b[0mfirstTime\u001b[0m\u001b[0;34m)\u001b[0m\u001b[0;34m\u001b[0m\u001b[0;34m\u001b[0m\u001b[0m\n\u001b[1;32m      5\u001b[0m \u001b[0mprint\u001b[0m\u001b[0;34m(\u001b[0m\u001b[0mtype\u001b[0m\u001b[0;34m(\u001b[0m\u001b[0mfirstTime\u001b[0m\u001b[0;34m)\u001b[0m\u001b[0;34m)\u001b[0m\u001b[0;34m\u001b[0m\u001b[0;34m\u001b[0m\u001b[0m\n",
      "\u001b[0;31mNameError\u001b[0m: name 'dataset' is not defined"
     ]
    }
   ],
   "source": [
    "import time\n",
    "\n",
    "firstTime = dataset[0]['last_modified']\n",
    "print(firstTime)\n",
    "print(type(firstTime))\n"
   ]
  },
  {
   "cell_type": "markdown",
   "metadata": {},
   "source": [
    "As we can see, the variable `firstTime` is considered a `str` by Python.\n",
    "\n",
    "#### Pause and Reflect:\n",
    "What could be a potential shortcoming of a time feature being represented as a string?"
   ]
  },
  {
   "cell_type": "markdown",
   "metadata": {},
   "source": [
    "### Task 1: Conversion of firstTime from String, to Tuple, to Unix Time\n",
    "\n",
    "In order to grasp the concept of time casting and conversion, let's modify the `firstTime` variable we created in the prior cells. \n",
    "\n",
    "1. Convert the string to a Time object using a method found [in the documentation for time](https://docs.python.org/3.7/library/time.html).  \n",
    "_Note: Only the first 19 characters in the time string contain relevant time data that we'd like to cast._  \n",
    "_Note 2: Note the date's format (e.g. \"Year-day-month Second:Minute:Hour\" , as printed out in the prior cell. Refer to the list of directives within the documentation to aid with the casting process._\n",
    "\n",
    "2. Print out the `firstTime` variable, and note the way that Time objects are represented in the console output. "
   ]
  },
  {
   "cell_type": "code",
   "execution_count": 12,
   "metadata": {},
   "outputs": [
    {
     "ename": "NameError",
     "evalue": "name 'firstTime' is not defined",
     "output_type": "error",
     "traceback": [
      "\u001b[0;31m---------------------------------------------------------------------------\u001b[0m",
      "\u001b[0;31mNameError\u001b[0m                                 Traceback (most recent call last)",
      "\u001b[0;32m<ipython-input-12-cab4ec22ef8e>\u001b[0m in \u001b[0;36m<module>\u001b[0;34m\u001b[0m\n\u001b[1;32m      1\u001b[0m \u001b[0;31m#Convert from String to a Time object\u001b[0m\u001b[0;34m\u001b[0m\u001b[0;34m\u001b[0m\u001b[0;34m\u001b[0m\u001b[0m\n\u001b[0;32m----> 2\u001b[0;31m \u001b[0mfirstTime\u001b[0m \u001b[0;34m=\u001b[0m \u001b[0mtime\u001b[0m\u001b[0;34m.\u001b[0m\u001b[0mstrptime\u001b[0m\u001b[0;34m(\u001b[0m\u001b[0mfirstTime\u001b[0m\u001b[0;34m[\u001b[0m\u001b[0;36m0\u001b[0m\u001b[0;34m:\u001b[0m\u001b[0;36m19\u001b[0m\u001b[0;34m]\u001b[0m\u001b[0;34m,\u001b[0m \u001b[0;34m\"%Y-%m-%d %H:%M:%S\"\u001b[0m\u001b[0;34m)\u001b[0m\u001b[0;34m\u001b[0m\u001b[0;34m\u001b[0m\u001b[0m\n\u001b[0m\u001b[1;32m      3\u001b[0m \u001b[0mprint\u001b[0m\u001b[0;34m(\u001b[0m\u001b[0mfirstTime\u001b[0m\u001b[0;34m)\u001b[0m\u001b[0;34m\u001b[0m\u001b[0;34m\u001b[0m\u001b[0m\n\u001b[1;32m      4\u001b[0m \u001b[0mprint\u001b[0m\u001b[0;34m(\u001b[0m\u001b[0mtype\u001b[0m\u001b[0;34m(\u001b[0m\u001b[0mfirstTime\u001b[0m\u001b[0;34m)\u001b[0m\u001b[0;34m)\u001b[0m\u001b[0;34m\u001b[0m\u001b[0;34m\u001b[0m\u001b[0m\n",
      "\u001b[0;31mNameError\u001b[0m: name 'firstTime' is not defined"
     ]
    }
   ],
   "source": [
    "#Convert from String to a Time object\n",
    "firstTime = #TODO: YOUR CODE HERE\n",
    "print(firstTime)\n",
    "print(type(firstTime))"
   ]
  },
  {
   "cell_type": "markdown",
   "metadata": {},
   "source": [
    "Using the slimmed-down dataset from prior sections, let's use our new knowledge to manipulate the time-based features of any given listing.\n",
    "\n",
    "*Hint*: Be sure to leverage the `time.strptime` function to cast the time `str` (strings) as Python `tuple` objects."
   ]
  },
  {
   "cell_type": "code",
   "execution_count": 16,
   "metadata": {},
   "outputs": [],
   "source": [
    "# First, let's modify every 'last_modified' entry within the dataset\n",
    "for d in dataset:\n",
    "    #Check if the `last_modified` feature of line d is of type string. \n",
    "    #Use an if statement, followed by isinstance. \n",
    "    #TODO: YOUR CODE HERE FOR IF STATEMENT\n",
    "        #Hint: Use the code from the firstTime variable's conversion as an example for the next line.\n",
    "        d['last_modified'] = #TODO: YOUR CODE HERE"
   ]
  },
  {
   "cell_type": "markdown",
   "metadata": {},
   "source": [
    "In order to make the sorting process a bit easier for us, let's convert the Python `time` structs into Unix time. \n",
    "\n",
    "As per the lecture, Unix time is defined as the time (in seconds) since the [Unix Epoch](https://en.wikipedia.org/wiki/Unix_time).\n",
    "\n",
    "*Hint*: Look through the [Python Time Library's Documentation](https://docs.python.org/3.7/library/time.html) to find the function needed to convert struct_time to Unix time. \n"
   ]
  },
  {
   "cell_type": "code",
   "execution_count": 17,
   "metadata": {},
   "outputs": [],
   "source": [
    "for d in dataset:\n",
    "    if isinstance(d['last_modified'], tuple):\n",
    "        d['last_modified'] = #TODO: YOUR CODE HERE\n"
   ]
  },
  {
   "cell_type": "markdown",
   "metadata": {},
   "source": [
    "Next, we will sort the dataset by `last_modified` feature. To do this, we'll look at [the documentation for Sorting in Python](https://docs.python.org/3/howto/sorting.html#key-functions) — specifically the section on Key Functions.\n",
    "\n",
    "This will most likely involve using lambdas. In this case,  since knowledge of lambda functions are not required for this course, we will provide the code snippet below:\n",
    "\n",
    "`lambda x: x['last_modified']`"
   ]
  },
  {
   "cell_type": "code",
   "execution_count": 18,
   "metadata": {},
   "outputs": [
    {
     "name": "stdout",
     "output_type": "stream",
     "text": [
      "1545303107.0\n",
      "1545303107.0\n",
      "1545303107.0\n",
      "1545303113.0\n",
      "1545303113.0\n",
      "1545303113.0\n",
      "1545303113.0\n",
      "1545303113.0\n",
      "1545303114.0\n",
      "1545303117.0\n",
      "1545303120.0\n",
      "1545303123.0\n",
      "1545303166.0\n",
      "1545303167.0\n",
      "1545303169.0\n",
      "1545303173.0\n",
      "1545303173.0\n",
      "1545303175.0\n",
      "1545303175.0\n",
      "1545303175.0\n",
      "1545303178.0\n",
      "1545303178.0\n",
      "1545303178.0\n",
      "1545303178.0\n",
      "1545303178.0\n",
      "1545303178.0\n",
      "1545303179.0\n",
      "1545303179.0\n",
      "1545303192.0\n",
      "1545303194.0\n",
      "1545303195.0\n",
      "1545303217.0\n",
      "1545303234.0\n",
      "1545303267.0\n",
      "1545303280.0\n",
      "1545303515.0\n",
      "1545303515.0\n",
      "1545303515.0\n",
      "1545303515.0\n",
      "1545303515.0\n",
      "1545303516.0\n",
      "1545303516.0\n",
      "1545303516.0\n",
      "1545303516.0\n",
      "1545303518.0\n",
      "1545303520.0\n",
      "1545303551.0\n",
      "1545303551.0\n",
      "1545303557.0\n",
      "1545303557.0\n",
      "1545303558.0\n",
      "1545303558.0\n",
      "1545303559.0\n",
      "1545303559.0\n",
      "1545303559.0\n",
      "1545303561.0\n",
      "1545303563.0\n",
      "1545303564.0\n",
      "1545303564.0\n",
      "1545303571.0\n",
      "1545303571.0\n",
      "1545303571.0\n",
      "1545303572.0\n",
      "1545303589.0\n",
      "1545303590.0\n",
      "1545303593.0\n",
      "1545303593.0\n",
      "1545303594.0\n",
      "1545303610.0\n",
      "1545303610.0\n",
      "1545303680.0\n",
      "1545303681.0\n",
      "1545303692.0\n",
      "1545303698.0\n",
      "1545303734.0\n",
      "1545303747.0\n",
      "1545303756.0\n",
      "1545303820.0\n",
      "1545303836.0\n",
      "1545303847.0\n",
      "1545303858.0\n",
      "1545303859.0\n",
      "1545303872.0\n",
      "1545303915.0\n",
      "1545303915.0\n",
      "1545303916.0\n",
      "1545303919.0\n",
      "1545303927.0\n",
      "1545303936.0\n",
      "1545303939.0\n",
      "1545303939.0\n",
      "1545303939.0\n",
      "1545303942.0\n",
      "1545303944.0\n",
      "1545303947.0\n",
      "1545303949.0\n",
      "1545303954.0\n",
      "1545303954.0\n",
      "1545303954.0\n",
      "1545303954.0\n",
      "1545303954.0\n",
      "1545303955.0\n",
      "1545303955.0\n",
      "1545303969.0\n",
      "1545304013.0\n",
      "1545304019.0\n",
      "1545304019.0\n",
      "1545304032.0\n",
      "1545304033.0\n",
      "1545304041.0\n",
      "1545304050.0\n",
      "1545304056.0\n",
      "1545304149.0\n",
      "1545304186.0\n",
      "1545304197.0\n",
      "1545304197.0\n",
      "1545304205.0\n",
      "1545304205.0\n",
      "1545304260.0\n",
      "1545304264.0\n",
      "1545304266.0\n",
      "1545304266.0\n",
      "1545304266.0\n",
      "1545304271.0\n",
      "1545304273.0\n",
      "1545304274.0\n",
      "1545304274.0\n",
      "1545304276.0\n",
      "1545304276.0\n",
      "1545304280.0\n",
      "1545304287.0\n",
      "1545304289.0\n",
      "1545304289.0\n",
      "1545304345.0\n",
      "1545304345.0\n",
      "1545304352.0\n",
      "1545304352.0\n",
      "1545304354.0\n",
      "1545304354.0\n",
      "1545304354.0\n",
      "1545304355.0\n",
      "1545304357.0\n",
      "1545304357.0\n",
      "1545304359.0\n",
      "1545304359.0\n",
      "1545304371.0\n",
      "1545304375.0\n",
      "1545304519.0\n",
      "1545304520.0\n",
      "1545304520.0\n",
      "1545304520.0\n",
      "1545304521.0\n",
      "1545304521.0\n",
      "1545304528.0\n",
      "1545304536.0\n",
      "1545304537.0\n",
      "1545304538.0\n",
      "1545304559.0\n",
      "1545304599.0\n",
      "1545304645.0\n",
      "1545304703.0\n",
      "1545304703.0\n",
      "1545304704.0\n",
      "1545304714.0\n",
      "1545304714.0\n",
      "1545304721.0\n",
      "1545304725.0\n",
      "1545304734.0\n",
      "1545304734.0\n",
      "1545304734.0\n",
      "1545304734.0\n",
      "1545304738.0\n",
      "1545304744.0\n",
      "1545304771.0\n",
      "1545304771.0\n",
      "1545304771.0\n",
      "1545304791.0\n",
      "1545304803.0\n",
      "1545304823.0\n",
      "1545304862.0\n",
      "1545304862.0\n",
      "1545304864.0\n",
      "1545304864.0\n",
      "1545304864.0\n",
      "1545304865.0\n",
      "1545304865.0\n",
      "1545304930.0\n",
      "1545304936.0\n",
      "1545304980.0\n",
      "1545304990.0\n",
      "1545304990.0\n",
      "1545304994.0\n",
      "1545305008.0\n",
      "1545305009.0\n",
      "1545305016.0\n",
      "1545305104.0\n",
      "1545305108.0\n",
      "1545305111.0\n",
      "1545305126.0\n",
      "1545305127.0\n",
      "1545305128.0\n",
      "1545305154.0\n",
      "1545305218.0\n",
      "1545305227.0\n",
      "1545305232.0\n",
      "1545305242.0\n",
      "1545305242.0\n",
      "1545305244.0\n",
      "1545305244.0\n",
      "1545305244.0\n",
      "1545305244.0\n",
      "1545305244.0\n",
      "1545305246.0\n",
      "1545305246.0\n",
      "1545305247.0\n",
      "1545305247.0\n",
      "1545305247.0\n",
      "1545305247.0\n",
      "1545305249.0\n",
      "1545305252.0\n",
      "1545305256.0\n",
      "1545305256.0\n",
      "1545305256.0\n",
      "1545305270.0\n",
      "1545305281.0\n",
      "1545305293.0\n",
      "1545305293.0\n",
      "1545305293.0\n",
      "1545305304.0\n",
      "1545305321.0\n",
      "1545305342.0\n",
      "1545305343.0\n",
      "1545305343.0\n",
      "1545305343.0\n",
      "1545305359.0\n",
      "1545305376.0\n",
      "1545305411.0\n",
      "1545305432.0\n",
      "1545305488.0\n",
      "1545305526.0\n",
      "1545305543.0\n",
      "1545305544.0\n",
      "1545305563.0\n",
      "1545305586.0\n",
      "1545305586.0\n",
      "1545305591.0\n",
      "1545305597.0\n",
      "1545305700.0\n",
      "1545305763.0\n",
      "1545305833.0\n",
      "1545305853.0\n",
      "1545305853.0\n",
      "1545305853.0\n",
      "1545305880.0\n",
      "1545306088.0\n",
      "1545306091.0\n",
      "1545306094.0\n",
      "1545306109.0\n",
      "1545306109.0\n",
      "1545306144.0\n",
      "1545306170.0\n",
      "1545306171.0\n",
      "1545306171.0\n",
      "1545306172.0\n",
      "1545306172.0\n",
      "1545306172.0\n",
      "1545306172.0\n",
      "1545306191.0\n",
      "1545306198.0\n",
      "1545306235.0\n",
      "1545306243.0\n",
      "1545306257.0\n",
      "1545306257.0\n",
      "1545306257.0\n",
      "1545306270.0\n",
      "1545306270.0\n",
      "1545306275.0\n",
      "1545306279.0\n",
      "1545306279.0\n",
      "1545306279.0\n",
      "1545306284.0\n",
      "1545306289.0\n",
      "1545306289.0\n",
      "1545306289.0\n",
      "1545306289.0\n",
      "1545306291.0\n",
      "1545306295.0\n",
      "1545306295.0\n",
      "1545306295.0\n",
      "1545306295.0\n",
      "1545306303.0\n",
      "1545306304.0\n",
      "1545306337.0\n",
      "1545306337.0\n",
      "1545306342.0\n",
      "1545306342.0\n",
      "1545306342.0\n",
      "1545306343.0\n",
      "1545306345.0\n",
      "1545306349.0\n",
      "1545306350.0\n",
      "1545306350.0\n",
      "1545306363.0\n",
      "1545306363.0\n",
      "1545306365.0\n",
      "1545306365.0\n",
      "1545306368.0\n",
      "1545306368.0\n",
      "1545306381.0\n",
      "1545306381.0\n",
      "1545306496.0\n",
      "1545306525.0\n",
      "1545306532.0\n",
      "1545306539.0\n",
      "1545306539.0\n",
      "1545306540.0\n",
      "1545306540.0\n",
      "1545306550.0\n",
      "1545306552.0\n",
      "1545306556.0\n",
      "1545306560.0\n",
      "1545306560.0\n",
      "1545306563.0\n",
      "1545306563.0\n",
      "1545306564.0\n",
      "1545306565.0\n",
      "1545306565.0\n",
      "1545306565.0\n",
      "1545306574.0\n",
      "1545306584.0\n",
      "1545306621.0\n",
      "1545306626.0\n",
      "1545306627.0\n",
      "1545306627.0\n",
      "1545306627.0\n",
      "1545306633.0\n",
      "1545306649.0\n",
      "1545306662.0\n",
      "1545306779.0\n",
      "1545306807.0\n",
      "1545306808.0\n",
      "1545306831.0\n",
      "1545306855.0\n",
      "1545306860.0\n",
      "1545306869.0\n",
      "1545306917.0\n",
      "1545306918.0\n",
      "1545306918.0\n",
      "1545306918.0\n",
      "1545306918.0\n",
      "1545306919.0\n",
      "1545306923.0\n",
      "1545306924.0\n",
      "1545306924.0\n",
      "1545306930.0\n",
      "1545306930.0\n",
      "1545306930.0\n",
      "1545306931.0\n",
      "1545306931.0\n",
      "1545306950.0\n",
      "1545306958.0\n",
      "1545306974.0\n",
      "1545306979.0\n",
      "1545306990.0\n",
      "1545307092.0\n",
      "1545307110.0\n",
      "1545307276.0\n",
      "1545307276.0\n",
      "1545307362.0\n",
      "1545307366.0\n",
      "1545307367.0\n",
      "1545307367.0\n",
      "1545307368.0\n",
      "1545307387.0\n",
      "1545307400.0\n",
      "1545307402.0\n",
      "1545307407.0\n",
      "1545307477.0\n",
      "1545307477.0\n",
      "1545307477.0\n",
      "1545307481.0\n",
      "1545307485.0\n",
      "1545307485.0\n",
      "1545307490.0\n",
      "1545307490.0\n",
      "1545307491.0\n",
      "1545307491.0\n",
      "1545307491.0\n",
      "1545307492.0\n",
      "1545307496.0\n",
      "1545307638.0\n",
      "1545307638.0\n",
      "1545307638.0\n",
      "1545307638.0\n",
      "1545307640.0\n",
      "1545307640.0\n",
      "1545307640.0\n",
      "1545307640.0\n",
      "1545307640.0\n",
      "1545307640.0\n",
      "1545307686.0\n",
      "1545307700.0\n",
      "1545307703.0\n",
      "1545307703.0\n",
      "1545307703.0\n",
      "1545307703.0\n",
      "1545307703.0\n",
      "1545307707.0\n",
      "1545307720.0\n",
      "1545307745.0\n",
      "1545307761.0\n",
      "1545307858.0\n",
      "1545307877.0\n",
      "1545307881.0\n",
      "1545307881.0\n",
      "1545307881.0\n",
      "1545307881.0\n",
      "1545307885.0\n",
      "1545307885.0\n",
      "1545307888.0\n",
      "1545307888.0\n",
      "1545307933.0\n",
      "1545307942.0\n"
     ]
    }
   ],
   "source": [
    "# Using dataset.copy() makes a shallow copy of the dataset.\n",
    "# Leave this line be.\n",
    "sortedByTimeDataset = dataset.copy()\n",
    "\n",
    "sortedByTimeDataset = #TODO: YOUR CODE HERE\n",
    "\n",
    "for d in sortedByTimeDataset:\n",
    "    print(d['last_modified'])"
   ]
  },
  {
   "cell_type": "markdown",
   "metadata": {},
   "source": [
    "Using UNIX time made it easy to sort the dataset by the `last_modified` field!"
   ]
  },
  {
   "cell_type": "markdown",
   "metadata": {},
   "source": [
    "### Knowledge Check:\n",
    "1. Which method would you use to convert from a Python Time object to a String?\n",
    "2. In what context would you need to perform the above operation?\n",
    "3. Which directive (e.g. %p) would you use to express Minutes as a decimal number (that is, from 00 to 59)?\n",
    "\n",
    "_You do not need to answer these officially, but we encourage you to go back and review the code if you do not know the answer._"
   ]
  },
  {
   "cell_type": "markdown",
   "metadata": {},
   "source": [
    "---\n",
    "## You're all done!\n",
    "You should be familiar with the basics of reading in CSV and JSON files now and playing with the data. In your own time, we encourage you to find some datasets and try filtering and cleaning them to slim down extraneous results, or hone in on a specific feature result. "
   ]
  }
 ],
 "metadata": {
  "celltoolbar": "Raw Cell Format",
  "kernelspec": {
   "display_name": "Python 3",
   "language": "python",
   "name": "python3"
  },
  "language_info": {
   "codemirror_mode": {
    "name": "ipython",
    "version": 3
   },
   "file_extension": ".py",
   "mimetype": "text/x-python",
   "name": "python",
   "nbconvert_exporter": "python",
   "pygments_lexer": "ipython3",
   "version": "3.7.2"
  }
 },
 "nbformat": 4,
 "nbformat_minor": 2
}
