{
 "cells": [
  {
   "cell_type": "code",
   "execution_count": 1,
   "metadata": {},
   "outputs": [
    {
     "data": {
      "text/plain": [
       "['seller_id,', 'product_id,', 'price,', 'customer_id,', 'review_id']"
      ]
     },
     "execution_count": 1,
     "metadata": {},
     "output_type": "execute_result"
    }
   ],
   "source": [
    "string = \"seller_id, product_id, price, customer_id, review_id\"\n",
    "string.split()"
   ]
  },
  {
   "cell_type": "code",
   "execution_count": 2,
   "metadata": {},
   "outputs": [
    {
     "data": {
      "text/plain": [
       "3.0"
      ]
     },
     "execution_count": 2,
     "metadata": {},
     "output_type": "execute_result"
    }
   ],
   "source": [
    "def listavg(list_of_nums):\n",
    "    return sum(list_of_nums) / len(list_of_nums)\n",
    "  \n",
    "input = [1, 2, 3, 4, 5]\n",
    "\n",
    "result = listavg(input)\n",
    "\n",
    "result"
   ]
  },
  {
   "cell_type": "code",
   "execution_count": 3,
   "metadata": {},
   "outputs": [],
   "source": [
    "from collections import defaultdict\n",
    "import string"
   ]
  },
  {
   "cell_type": "code",
   "execution_count": 4,
   "metadata": {},
   "outputs": [],
   "source": [
    "def extract_popular(textstring):\n",
    "    \"\"\"\n",
    "    Input: string\n",
    "    Output: dictionary with counts for each character in       string\n",
    "    \"\"\"\n",
    "    d = defaultdict(int)\n",
    "    exclude = set(string.punctuation)\n",
    "    textstring = textstring.lower()\n",
    "    textstring = ''.join(ch for ch in textstring if ch not in exclude)\n",
    "    for c in textstring:\n",
    "        d[c] += 1\n",
    "        counts = [(d[c], c) for c in d]\n",
    "        counts.sort()\n",
    "        counts.reverse()\n",
    "    return counts"
   ]
  },
  {
   "cell_type": "code",
   "execution_count": 5,
   "metadata": {},
   "outputs": [
    {
     "data": {
      "text/plain": [
       "[(5, 't'),\n",
       " (4, 'e'),\n",
       " (3, 'n'),\n",
       " (2, 's'),\n",
       " (2, 'i'),\n",
       " (2, 'a'),\n",
       " (2, ' '),\n",
       " (1, 'p'),\n",
       " (1, 'o'),\n",
       " (1, 'l'),\n",
       " (1, 'g')]"
      ]
     },
     "execution_count": 5,
     "metadata": {},
     "output_type": "execute_result"
    }
   ],
   "source": [
    "extract_popular(\"Testing, attention please.\")"
   ]
  },
  {
   "cell_type": "code",
   "execution_count": 1,
   "metadata": {},
   "outputs": [],
   "source": [
    "def MSE(pred, actual):\n",
    "    summation = 0  #variable to store the summation of differences\n",
    "    n = len(actual) #finding total number of items in list\n",
    "    for i in range (0,n):  #looping through each element of the list\n",
    "        difference = actual[i] - pred[i]  #finding the difference between observed and predicted value\n",
    "        squared_difference = difference**2  #taking square of the differene \n",
    "        summation = summation + squared_difference  #taking a sum of all the differences\n",
    "    MSE = summation/n  #dividing summation by total values to obtain average\n",
    "    print(\"The Mean Square Error is: \" , MSE)\n"
   ]
  },
  {
   "cell_type": "code",
   "execution_count": 2,
   "metadata": {},
   "outputs": [
    {
     "name": "stdout",
     "output_type": "stream",
     "text": [
      "The Mean Square Error is:  8340.546666666667\n"
     ]
    }
   ],
   "source": [
    "MSE([1, 222, 55, 77, 33, 41],[1, 21, 5, 7, 3.2, 4.2])"
   ]
  },
  {
   "cell_type": "code",
   "execution_count": 8,
   "metadata": {},
   "outputs": [],
   "source": [
    "def split_dataset(X,y):\n",
    "\n",
    "    N = len(X)\n",
    "\n",
    "    X_train = X[:3*N//5]\n",
    "\n",
    "    X_validation = X[3*N//5:4*N//5]\n",
    "\n",
    "    X_test = X[4*N//5:]\n",
    "\n",
    "    y_train = y[:3*N//5]\n",
    "\n",
    "    y_validation = y[3*N//5:4*N//5]\n",
    "\n",
    "    y_test = y[4*N//5:]\n",
    "\n",
    "    return [X_train, X_validation, X_test, y_train, y_validation, y_test] "
   ]
  },
  {
   "cell_type": "code",
   "execution_count": 9,
   "metadata": {},
   "outputs": [
    {
     "name": "stdout",
     "output_type": "stream",
     "text": [
      "[['a', 'b', 'c', 'd', 'e', 'f'], ['g', 'h'], ['i', 'j'], [1, 2, 3, 4, 5, 6], [7, 8], [9, 10]]\n"
     ]
    }
   ],
   "source": [
    "X = [\"a\", \"b\", \"c\", \"d\", \"e\", \"f\", \"g\", \"h\", \"i\", \"j\"]\n",
    "\n",
    "y = [1, 2, 3, 4, 5, 6, 7, 8, 9, 10]\n",
    "\n",
    "print(split_dataset(X,y))"
   ]
  },
  {
   "cell_type": "code",
   "execution_count": null,
   "metadata": {},
   "outputs": [],
   "source": []
  }
 ],
 "metadata": {
  "kernelspec": {
   "display_name": "Python 3",
   "language": "python",
   "name": "python3"
  },
  "language_info": {
   "codemirror_mode": {
    "name": "ipython",
    "version": 3
   },
   "file_extension": ".py",
   "mimetype": "text/x-python",
   "name": "python",
   "nbconvert_exporter": "python",
   "pygments_lexer": "ipython3",
   "version": "3.8.3"
  }
 },
 "nbformat": 4,
 "nbformat_minor": 4
}
